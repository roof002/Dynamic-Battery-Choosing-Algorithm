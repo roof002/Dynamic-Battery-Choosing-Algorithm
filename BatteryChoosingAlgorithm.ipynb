{
 "cells": [
  {
   "cell_type": "markdown",
   "metadata": {},
   "source": [
    "# Importing Data"
   ]
  },
  {
   "cell_type": "code",
   "execution_count": null,
   "metadata": {},
   "outputs": [],
   "source": [
    "import pandas as pd\n",
    "import numpy as np\n",
    "import itertools\n",
    "from itertools import combinations\n",
    "from datetime import datetime, timedelta\n",
    "import time\n",
    "import mysql.connector"
   ]
  },
  {
   "cell_type": "markdown",
   "metadata": {},
   "source": [
    "## Setting sample Battery scores\n",
    "- Fake scores are used for now as real scores are not available at time of code's creation\n",
    "- Scores here do not necessarily be of any amount, but I chose 3 batteries (Batt2, Batt3, Batt5) to = 1.0 (100% score) for testing purposes"
   ]
  },
  {
   "cell_type": "code",
   "execution_count": null,
   "metadata": {},
   "outputs": [],
   "source": [
    "# Set the random seed for reproducibility\n",
    "np.random.seed(80)\n",
    "\n",
    "# Define the columns\n",
    "columns = ['ID', 'BESS1_score', 'BESS2_score', 'BESS3_score', 'BESS4_score', 'BESS5_score']\n",
    "\n",
    "# Define the number of rows\n",
    "num_rows = 10 # Not necessary to be 10, pick any number you want\n",
    "\n",
    "# Generate the random values for the battery columns\n",
    "data = np.random.uniform(low=0.0, high=1.0, size=(num_rows, len(columns) - 1))\n",
    "\n",
    "# Round the values to the nearest 2 decimal places\n",
    "data = np.round(data, 2)\n",
    "\n",
    "# Create the DataFrame\n",
    "scoreTable = pd.DataFrame(data, columns=columns[1:])\n",
    "\n",
    "scoreTable.iloc[9, 1] = 1.0  \n",
    "scoreTable.iloc[9, 2] = 1.0 \n",
    "scoreTable.iloc[9, 4] = 1.0 \n",
    "print(scoreTable)"
   ]
  }
 ],
 "metadata": {
  "language_info": {
   "name": "python"
  }
 },
 "nbformat": 4,
 "nbformat_minor": 2
}
